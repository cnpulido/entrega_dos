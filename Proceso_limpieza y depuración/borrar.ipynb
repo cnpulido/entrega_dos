{
 "cells": [
  {
   "cell_type": "code",
   "execution_count": 1,
   "id": "ef026998",
   "metadata": {},
   "outputs": [],
   "source": [
    "import pandas as pd\n",
    "\n",
    "#leer dataframe\n",
    "df = pd.read_excel(\"osb_saludmental_suicidio_consumado.xlsx\")\n",
    "\n",
    "#borrar filas sin datos de ubicacion\n",
    "df.drop(df[df['Localidad'] == \"Bogotá\"].index, inplace=True)\n",
    "df.drop(df[df['Localidad'] == \"Sin dato\"].index, inplace=True)\n",
    "\n",
    "#crear diccionario de localidades para cambiar el nombre\n",
    "localidad = {\"San Cristóbal\":\"San Cristobal\",\"Ciudad Bolívar\":\"Ciudad Bolivar\",\"Engativá\":\"Engativa\",\"Fontibón\":\"Fontibon\",\n",
    "            \"Usaquén\":\"Usaquen\",\"Los Mártires\":\"Los Martires\", \"La Candelaria\":\"Candelaria\"}\n",
    "\n",
    "#reemplazar los valores que estan en el diccionario\n",
    "df.Localidad = df.Localidad.replace(localidad)\n",
    "\n",
    "#mostrar el dataframe\n",
    "df.head(20)\n",
    "\n",
    "#Guardar el nuevo dataset limpio\n",
    "df.to_excel('suicidio.xlsx',index = True)"
   ]
  },
  {
   "cell_type": "code",
   "execution_count": 2,
   "id": "70bb369e",
   "metadata": {},
   "outputs": [],
   "source": [
    "#leer dataframe\n",
    "df = pd.read_excel(\"descargable-sisvecos.xlsx\")\n",
    "\n",
    "#borrar ubicaciones sin dato geografico\n",
    "df.drop(df[df['NombreLocalidadResidencia'] == \"Bogotá\"].index, inplace=True)\n",
    "df.drop(df[df['NombreLocalidadResidencia'] == \"Sin dato\"].index, inplace=True)\n",
    "\n",
    "#diccionario de localidades\n",
    "NombreLocalidadResidencia = {\"San Cristóbal\":\"San Cristobal\",\"Ciudad Bolívar\":\"Ciudad Bolivar\",\"Engativá\":\"Engativa\",\"Fontibón\":\"Fontibon\",\n",
    "            \"Usaquén\":\"Usaquen\",\"Los Mártires\":\"Los Martires\",\"La Candelaria\":\"Candelaria\"}\n",
    "\n",
    "#reemplazar valores del diccionario\n",
    "df.NombreLocalidadResidencia = df.NombreLocalidadResidencia.replace(NombreLocalidadResidencia)\n",
    "\n",
    "#eliminar mas datos sin ubicacion geografica\n",
    "df.drop(df[df['CodLocalidadResidencia'] == 99].index, inplace=True)\n",
    "\n",
    "#mostrar dataframe\n",
    "df\n",
    "\n",
    "#guardar nuevo dataframe\n",
    "df.to_excel('ideacion_conducta.xlsx',index = True)"
   ]
  }
 ],
 "metadata": {
  "kernelspec": {
   "display_name": "Python 3 (ipykernel)",
   "language": "python",
   "name": "python3"
  },
  "language_info": {
   "codemirror_mode": {
    "name": "ipython",
    "version": 3
   },
   "file_extension": ".py",
   "mimetype": "text/x-python",
   "name": "python",
   "nbconvert_exporter": "python",
   "pygments_lexer": "ipython3",
   "version": "3.11.5"
  }
 },
 "nbformat": 4,
 "nbformat_minor": 5
}
