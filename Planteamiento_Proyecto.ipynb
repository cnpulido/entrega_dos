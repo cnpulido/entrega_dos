{
  "nbformat": 4,
  "nbformat_minor": 0,
  "metadata": {
    "colab": {
      "provenance": []
    },
    "kernelspec": {
      "name": "python3",
      "display_name": "Python 3"
    },
    "language_info": {
      "name": "python"
    }
  },
  "cells": [
    {
      "cell_type": "markdown",
      "source": [
        "**PROPUESTA DE PROYECTO MAPA DE RIESGOS SUICIDIOS EN BOGOTÁ**\n",
        "\n",
        "*   Luis Felipe Fajardo Penagos\n",
        "*   Carolina Novoa Osorio\n",
        "*   Carol Nataly Pulido Perdomo\n",
        "\n",
        "**OBJETIVO GENERAL**\n",
        "\n",
        "Desarrollar un dashboard interactivo que permita visualizar la distribución geoespacial de las conductas de ideación e intento de suicidio y suicidio consumado en Bogotá durante los últimos 11 años para identificar las zonas de mayor incidencia.\n",
        "\n",
        "**OBJETIVOS ESPECÍFICOS**\n",
        "1. Recopilar datos de diversas fuentes oficiales sobre las conductas de ideación e intento de suicidio y suicidio consumado en Bogotá durante los últimos 11 años.\n",
        "\n",
        "2. Generar dashboard que permita a los usuarios filtrar y visualizar los datos por variables como año, localidad, género y rango de edad.\n",
        "\n",
        "3. Aprovechar la visualización geoespacial para identificar y resaltar las zonas con mayor incidencia de conductas de ideación e intento de suicidio y suicidio consumado, proporcionando aspectos que puedan ser utilizados para la toma de decisiones y la implementación de políticas públicas.\n",
        "\n",
        "\n",
        "\n"
      ],
      "metadata": {
        "id": "qwJwVHscewr3"
      }
    },
    {
      "cell_type": "markdown",
      "source": [
        "**PLANTEAMIENTO DEL PROBLEMA**\n",
        "\n",
        "En Bogotá, la identificación y prevención de las conductas de ideación e intento de suicidio es una prioridad para las autoridades de salud pública. Los datos actuales sobre la distribución de estos eventos no se presentan de manera que permita a los tomadores de decisiones y profesionales de la salud identificar de manera efectiva las zonas de mayor riesgo e intervenir oportunamente.\n",
        "\n",
        "La falta de divulgación de herramientas interactivas que permitan explorar de manera dinámica y detallada la evolución y distribución geográfica de estos incidentes a lo largo del tiempo complica la identificación de patrones espaciales y temporales críticos. Esta situación limita la capacidad de focalizar esfuerzos de prevención en las áreas más afectadas y de evaluar la efectividad de las intervenciones aplicadas en el pasado.\n",
        "\n",
        "Por lo tanto, se desarrollará un dashboard interactivo que permita la visualización de la distribución geoespacial de las conductas de ideación e intento de suicidio en Bogotá durante los últimos 11 años. Este dashboard debe ser capaz de mostrar de manera clara y concisa las zonas de mayor incidencia, permitiendo un análisis detallado por diferentes variables como año, localidad, y tipo de conducta (ideación intento y consumado). La herramienta deberá ser accesible para entidades prestadoras de salud, organismos gubernamentales y la ciudadanía, facilitando la implementación de estrategias de intervención focalizadas en las zonas con mayor incidencia.\n",
        "\n",
        "\n"
      ],
      "metadata": {
        "id": "lZdLdIe-fgep"
      }
    },
    {
      "cell_type": "markdown",
      "source": [
        "**METODOLOGÍA**\n",
        "\n",
        "1. Recopilación y Limpieza de Datos.\n",
        "\n",
        "Identificación de Fuentes:\n",
        "*   Secretaría de Salud de Bogotá\n",
        "*   Instituto Nacional de Medicina Legal y Ciencias Forenses\n",
        "*   Datos abiertos Bogotá\n",
        "\n",
        "Recolección de Datos:\n",
        "\n",
        "Descargar datos de portales abiertos de datos disponibles\n",
        "\n",
        "Limpieza y Transformación de Datos:\n",
        "\n",
        "*   Unificar formatos y unidades de medida\n",
        "*   Corregir inconsistencias y valores atípicos\n",
        "*   Geocodificar los datos para poder visualizarlos en un mapa (discriminación por localidades de Bogotá)\n",
        "\n",
        "2. Diseño del Dashboard\n",
        "\n",
        "Selección de Herramientas:\n",
        "* Herramientas de visualización: Power BI\n",
        "* Lenguajes de programación: Python librerías Pandas, NumPy, Matplotlib, Seaborn\n",
        "\n",
        "Diseño de la Interfaz:\n",
        "*  Crear una interfaz intuitiva y fácil de usar\n",
        "*  Incluir filtros para año, localidad, género y rango de edad\n",
        "*  Utilizar mapas interactivos para visualizar la distribución geográfica\n",
        "\n",
        "\n",
        "Selección de Indicadores:\n",
        "*   Tasa de suicidio por 100.000 habitantes\n",
        "*   Número de casos por localidad\n",
        "*   Distribución por género y edad\n",
        "*   Tendencias a lo largo del tiempo\n",
        "\n",
        "3. Desarrollo del Dashboard\n",
        "*  Conexión a la Fuente de Datos:\n",
        "*  Conectar la herramienta de visualización a la base de datos limpia\n",
        "\n",
        "Creación de Visualizaciones:\n",
        "*  Crear mapas interactivos utilizando capas geoespaciales\n",
        "*  Agregar filtros y controles para permitir la exploración de los datos\n",
        "*  Personalizar el diseño y la estética del dashboard\n",
        "\n",
        "Validación y Pruebas:\n",
        "*  Verificar que los datos se visualicen correctamente\n",
        "*  Asegurarse de que los filtros funcionen como se espera\n",
        "*  Realizar pruebas de usabilidad con usuarios finales\n",
        "\n",
        "4. Análisis y Interpretación de Resultados\n",
        "Identificación de Patrones:\n",
        "*  Identificar zonas con mayor incidencia\n",
        "*  Analizar tendencias a lo largo del tiempo\n",
        "*  Comparar los eventos entre localidades y grupos demográficos\n",
        "\n",
        "Generación de Informes:\n",
        "*  Presentar los resultados de manera clara y llamativa.\n",
        "\n"
      ],
      "metadata": {
        "id": "bViaFb7FaUyh"
      }
    },
    {
      "cell_type": "markdown",
      "source": [
        "**Ciclo de Vida de los Datos**\n",
        "*  Adquisición: Recopilación de datos de fuentes oficiales.\n",
        "*  Limpieza: Transformación y corrección de los datos.\n",
        "*  Almacenamiento: Guardar los datos en una base de datos o repositorio.\n",
        "*  Procesamiento: Análisis y generación de insights a través del dashboard.\n",
        "*  Visualización: Presentación de los datos en forma de gráficos y mapas.\n",
        "*  Consumo: Utilización del dashboard por parte de los usuarios para tomar decisiones."
      ],
      "metadata": {
        "id": "wI7ksTd9c5uJ"
      }
    }
  ]
}